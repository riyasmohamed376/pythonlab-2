{
 "cells": [
  {
   "cell_type": "code",
   "execution_count": 6,
   "id": "e92815b3-1027-43d1-bec9-d2e5e5fe028a",
   "metadata": {},
   "outputs": [
    {
     "name": "stdout",
     "output_type": "stream",
     "text": [
      "hello! Mohamed RIYAZ\n"
     ]
    }
   ],
   "source": [
    "first_name=\"mohamed\"\n",
    "last_name=\"riyaz\"\n",
    "\n",
    "print(f\"hello! {first_name.()} {last_name.upper()}\")"
   ]
  },
  {
   "cell_type": "code",
   "execution_count": 9,
   "id": "4f6c91f3-21cb-4b23-b8c3-e13d933f9610",
   "metadata": {},
   "outputs": [
    {
     "name": "stdout",
     "output_type": "stream",
     "text": [
      " dhd89d489u\"rf\"hdueifdhjrewuifhr'ewfh \n"
     ]
    }
   ],
   "source": [
    "print(''' dhd89d489u\"rf\"hdueifdhjrewuifhr'ewfh ''')"
   ]
  },
  {
   "cell_type": "code",
   "execution_count": 11,
   "id": "43b6c196-6fc5-4c6c-b20b-fc7b98bc1026",
   "metadata": {},
   "outputs": [
    {
     "name": "stdout",
     "output_type": "stream",
     "text": [
      "Collecting jieba\n",
      "  Downloading jieba-0.42.1.tar.gz (19.2 MB)\n",
      "\u001b[2K     \u001b[38;2;114;156;31m━━━━━━━━━━━━━━━━━━━━━━━━━━━━━━━━━━━━━━━━\u001b[0m \u001b[32m19.2/19.2 MB\u001b[0m \u001b[31m11.3 MB/s\u001b[0m eta \u001b[36m0:00:00\u001b[0mm eta \u001b[36m0:00:01\u001b[0m[36m0:00:01\u001b[0m\n",
      "\u001b[?25h  Preparing metadata (setup.py) ... \u001b[?25ldone\n",
      "\u001b[?25hBuilding wheels for collected packages: jieba\n",
      "  Building wheel for jieba (setup.py) ... \u001b[?25ldone\n",
      "\u001b[?25h  Created wheel for jieba: filename=jieba-0.42.1-py3-none-any.whl size=19314459 sha256=cd7ee035b87b994a61d4d6fbb639b536f466f08f0a2a35621d0078f6ab3ff7b5\n",
      "  Stored in directory: /home/matlab/.cache/pip/wheels/08/a1/a3/5c8ac52cc2f5782ffffc34c95c57c8e5ecb3063dc69541ee7c\n",
      "Successfully built jieba\n",
      "Installing collected packages: jieba\n",
      "Successfully installed jieba-0.42.1\n"
     ]
    },
    {
     "name": "stderr",
     "output_type": "stream",
     "text": [
      "Building prefix dict from the default dictionary ...\n",
      "Dumping model to file cache /tmp/jieba.cache\n",
      "Loading model cost 0.276 seconds.\n",
      "Prefix dict has been built successfully.\n"
     ]
    },
    {
     "name": "stdout",
     "output_type": "stream",
     "text": [
      "我 愛 北京 天安 門\n"
     ]
    }
   ],
   "source": [
    "!pip install jieba\n",
    "import jieba\n",
    "\n",
    "text = \"我愛北京天安門\"\n",
    "seg_list = jieba.cut(text, cut_all=False)\n",
    "print(\" \".join(seg_list)) # Output: 我 愛 北京 天安門"
   ]
  },
  {
   "cell_type": "code",
   "execution_count": 3,
   "id": "e9c83896-5057-49d3-a6d8-fae79d9b4c8c",
   "metadata": {},
   "outputs": [
    {
     "name": "stdout",
     "output_type": "stream",
     "text": [
      "Requirement already satisfied: nltk in /home/software/software/lib/python3.12/site-packages (3.8.1)\n",
      "Requirement already satisfied: click in /home/software/software/lib/python3.12/site-packages (from nltk) (8.1.7)\n",
      "Requirement already satisfied: joblib in /home/software/software/lib/python3.12/site-packages (from nltk) (1.4.2)\n",
      "Requirement already satisfied: regex>=2021.8.3 in /home/software/software/lib/python3.12/site-packages (from nltk) (2023.10.3)\n",
      "Requirement already satisfied: tqdm in /home/software/software/lib/python3.12/site-packages (from nltk) (4.66.4)\n"
     ]
    }
   ],
   "source": [
    "!pip install nltk"
   ]
  },
  {
   "cell_type": "code",
   "execution_count": 4,
   "id": "8d6b1934-248d-4bcd-b13b-37f47ede23fc",
   "metadata": {},
   "outputs": [],
   "source": [
    "from urllib import request\n",
    "\n"
   ]
  },
  {
   "cell_type": "code",
   "execution_count": 5,
   "id": "e8eb637b-1ad0-4146-b299-e38ab81710d9",
   "metadata": {},
   "outputs": [],
   "source": [
    "url=\"https://www.gutenberg.org/cache/epub/76503/pg76503-images.html\"\n"
   ]
  },
  {
   "cell_type": "code",
   "execution_count": 6,
   "id": "53e98568-1d4b-4985-bca9-bf2e3a2cec27",
   "metadata": {},
   "outputs": [],
   "source": [
    "response=request.urlopen(url)\n"
   ]
  },
  {
   "cell_type": "code",
   "execution_count": 7,
   "id": "5e3e5b47-0e26-45c7-92b1-4ac70432d3b6",
   "metadata": {},
   "outputs": [],
   "source": [
    "raw = response.read().decode('utf8')"
   ]
  },
  {
   "cell_type": "code",
   "execution_count": 8,
   "id": "a08b931e-9f42-48f9-93f0-3df673bc97bc",
   "metadata": {},
   "outputs": [
    {
     "name": "stderr",
     "output_type": "stream",
     "text": [
      "[nltk_data] Downloading package punkt to /home/matlab/nltk_data...\n",
      "[nltk_data]   Package punkt is already up-to-date!\n"
     ]
    },
    {
     "data": {
      "text/plain": [
       "True"
      ]
     },
     "execution_count": 8,
     "metadata": {},
     "output_type": "execute_result"
    }
   ],
   "source": [
    "import nltk\n",
    "nltk.download('punkt')"
   ]
  },
  {
   "cell_type": "code",
   "execution_count": null,
   "id": "78fe3b39-959a-4470-9618-c98acfd13636",
   "metadata": {},
   "outputs": [],
   "source": [
    "from nltk.tokenize import word_tokenize \n"
   ]
  },
  {
   "cell_type": "code",
   "execution_count": null,
   "id": "fdb31c48-b4bc-49f8-a07b-4ba7d647d3da",
   "metadata": {},
   "outputs": [],
   "source": [
    "url=\"https://www.gutenberg.org/cache/epub/76503/pg76503-images.html\""
   ]
  },
  {
   "cell_type": "code",
   "execution_count": null,
   "id": "920056f1-3f42-4c8f-94a5-0101c8f1f8db",
   "metadata": {},
   "outputs": [],
   "source": [
    "response=request.urlopen(url)\n"
   ]
  },
  {
   "cell_type": "code",
   "execution_count": null,
   "id": "496f9ce9-0d0a-4575-8e86-bc30091c1ed3",
   "metadata": {},
   "outputs": [],
   "source": [
    "tokens=word_tokenize(raw)\n"
   ]
  },
  {
   "cell_type": "code",
   "execution_count": null,
   "id": "f169edba-0999-415f-84ea-c25616b69c08",
   "metadata": {},
   "outputs": [],
   "source": [
    "print(tokens[:100000])"
   ]
  },
  {
   "cell_type": "code",
   "execution_count": null,
   "id": "da3290e1-7d61-40c8-876f-14c95d2b94ee",
   "metadata": {},
   "outputs": [],
   "source": [
    "print(type(raw))"
   ]
  },
  {
   "cell_type": "code",
   "execution_count": null,
   "id": "ef35994e-650f-4cf9-b684-b7495bbea113",
   "metadata": {},
   "outputs": [],
   "source": []
  }
 ],
 "metadata": {
  "kernelspec": {
   "display_name": "Python 3 (ipykernel)",
   "language": "python",
   "name": "python3"
  },
  "language_info": {
   "codemirror_mode": {
    "name": "ipython",
    "version": 3
   },
   "file_extension": ".py",
   "mimetype": "text/x-python",
   "name": "python",
   "nbconvert_exporter": "python",
   "pygments_lexer": "ipython3",
   "version": "3.12.4"
  }
 },
 "nbformat": 4,
 "nbformat_minor": 5
}
